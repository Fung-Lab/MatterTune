{
 "cells": [
  {
   "cell_type": "code",
   "execution_count": null,
   "metadata": {},
   "outputs": [],
   "source": []
  },
  {
   "cell_type": "markdown",
   "metadata": {},
   "source": [
    "||MatterTune|JMP-Peft|\n",
    "|-|-|-|\n",
    "|speed|0.95iter/s|1.05iter/s|\n",
    "|val_speed|2.26it/s|2.47it/s|\n",
    "|GPU Mem|30GB/batch_size=4|30GB/batch_size=4|\n",
    "|MAE_F|0.218eV/A|0.212ev/A|"
   ]
  },
  {
   "cell_type": "markdown",
   "metadata": {},
   "source": [
    "Move All Data Process funcs into Backbone\n",
    "\n",
    "For datamodule, we can offer several data format support, for example, XYZDataModule...\n"
   ]
  },
  {
   "cell_type": "markdown",
   "metadata": {},
   "source": [
    "E.  Reorganize the code first\n",
    "F.  Move All Data Process funcs into Backbone\n",
    "    For datamodule, we can offer several data format support, for example, XYZDataModule...\n",
    "A.  finetune porperty on JMP-s,\n",
    "B.  figure out M3GNet, what happened\n",
    "C.  train small batch to loss=0\n",
    "D.  Endpoint usage (orb)\n",
    "    API for simple user. scripts -> easy API or order\n",
    "    seperate two kinds of user:\n",
    "    1. who will integrate new models\n",
    "    2. who will just use our already-supported models\n",
    "G.  Downstream interfaces, whether ase.Calculator is a good choice? \n",
    "    Unit setting, make sure units convertion is correct\n",
    "    Support property prediction but also fits in MD and Optimization Engines\n",
    "    Or we implement our own engines\n",
    "    First support for loop usage\n",
    "    Batch Prediction for property prediction\n",
    "H.  Tutorials or Documents to show how to utilize"
   ]
  },
  {
   "cell_type": "markdown",
   "metadata": {},
   "source": []
  },
  {
   "cell_type": "markdown",
   "metadata": {},
   "source": []
  }
 ],
 "metadata": {
  "kernelspec": {
   "display_name": "ideal",
   "language": "python",
   "name": "python3"
  },
  "language_info": {
   "name": "python",
   "version": "undefined.undefined.undefined"
  }
 },
 "nbformat": 4,
 "nbformat_minor": 2
}
