{
 "cells": [
  {
   "cell_type": "code",
   "execution_count": 37,
   "metadata": {},
   "outputs": [
    {
     "name": "stdout",
     "output_type": "stream",
     "text": [
      "{\n",
      "    \"$schema\": \"file:///workspaces/MatterTune/config.json.schema\",\n",
      "    \"x\": 1,\n",
      "    \"model\": {\n",
      "        \"name\": \"gemnet_oc\",\n",
      "        \"d_model\": 128,\n",
      "        \"num_triplets\": 32\n",
      "    }\n",
      "}\n",
      "\n"
     ]
    },
    {
     "data": {
      "text/plain": [
       "Config(model=GemNetOCConfig(d_model=128, num_triplets=32), x=1)"
      ]
     },
     "execution_count": 37,
     "metadata": {},
     "output_type": "execute_result"
    }
   ],
   "source": [
    "from typing import Annotated, Literal\n",
    "\n",
    "import nshconfig as C\n",
    "import nshutils as nu\n",
    "\n",
    "nu.pretty()\n",
    "\n",
    "\n",
    "class GemNetOCConfig(C.Config):\n",
    "    name: Literal[\"gemnet_oc\"] = \"gemnet_oc\"\n",
    "\n",
    "    d_model: int\n",
    "    num_triplets: int\n",
    "\n",
    "\n",
    "class ESCNConfig(C.Config):\n",
    "    name: Literal[\"escn\"] = \"escn\"\n",
    "\n",
    "    d_model: int\n",
    "    \"\"\"Dimensionality of the model\"\"\"\n",
    "\n",
    "\n",
    "class Config(C.Config):\n",
    "    model: Annotated[\n",
    "        GemNetOCConfig | ESCNConfig,\n",
    "        C.Field(discriminator=\"name\", description=\"Model to use\"),\n",
    "    ]\n",
    "    x: int\n",
    "    y: float = 1.0\n",
    "\n",
    "    data: DataConfig\n",
    "\n",
    "\n",
    "with open(\"./config.json\") as f:\n",
    "    contents = f.read()\n",
    "\n",
    "print(contents)\n",
    "\n",
    "config = Config.model_validate_json(contents)\n",
    "config"
   ]
  },
  {
   "cell_type": "code",
   "execution_count": 40,
   "metadata": {},
   "outputs": [],
   "source": [
    "import json\n",
    "\n",
    "with open(\"config.json.schema\", \"w\") as f:\n",
    "    f.write(json.dumps(Config.model_json_schema(), indent=2))"
   ]
  }
 ],
 "metadata": {
  "kernelspec": {
   "display_name": "mattertune-IXYYflty-py3.10",
   "language": "python",
   "name": "python3"
  },
  "language_info": {
   "codemirror_mode": {
    "name": "ipython",
    "version": 3
   },
   "file_extension": ".py",
   "mimetype": "text/x-python",
   "name": "python",
   "nbconvert_exporter": "python",
   "pygments_lexer": "ipython3",
   "version": "3.10.12"
  }
 },
 "nbformat": 4,
 "nbformat_minor": 2
}
