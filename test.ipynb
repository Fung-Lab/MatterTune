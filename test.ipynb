{
 "cells": [
  {
   "cell_type": "code",
   "execution_count": null,
   "metadata": {},
   "outputs": [],
   "source": []
  },
  {
   "cell_type": "markdown",
   "metadata": {},
   "source": [
    "||MatterTune|JMP-Peft|\n",
    "|-|-|-|\n",
    "|speed|0.95iter/s|1.05iter/s|\n",
    "|val_speed|2.26it/s|2.47it/s|\n",
    "|GPU Mem|30GB/batch_size=4|30GB/batch_size=4|\n",
    "|MAE_F|0.218eV/A|0.212ev/A|"
   ]
  },
  {
   "cell_type": "markdown",
   "metadata": {},
   "source": []
  }
 ],
 "metadata": {
  "kernelspec": {
   "display_name": "ideal",
   "language": "python",
   "name": "python3"
  },
  "language_info": {
   "name": "python",
   "version": "3.9.19"
  }
 },
 "nbformat": 4,
 "nbformat_minor": 2
}
