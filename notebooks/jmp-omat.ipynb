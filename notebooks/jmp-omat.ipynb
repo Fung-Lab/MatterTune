{
 "cells": [
  {
   "cell_type": "code",
   "execution_count": 1,
   "metadata": {},
   "outputs": [],
   "source": [
    "import nshutils as nu\n",
    "import rich\n",
    "\n",
    "nu.pretty(log_level=\"WARNING\")"
   ]
  },
  {
   "cell_type": "code",
   "execution_count": 2,
   "metadata": {},
   "outputs": [
    {
     "data": {
      "text/html": [
       "<pre style=\"white-space:pre;overflow-x:auto;line-height:normal;font-family:Menlo,'DejaVu Sans Mono',consolas,'Courier New',monospace\"><span style=\"color: #800080; text-decoration-color: #800080; font-weight: bold\">MatterTunerConfig</span><span style=\"font-weight: bold\">(</span>\n",
       "    <span style=\"color: #808000; text-decoration-color: #808000\">data</span>=<span style=\"color: #800080; text-decoration-color: #800080; font-weight: bold\">ManualSplitDataModuleConfig</span><span style=\"font-weight: bold\">(</span>\n",
       "        <span style=\"color: #808000; text-decoration-color: #808000\">batch_size</span>=<span style=\"color: #008080; text-decoration-color: #008080; font-weight: bold\">1</span>,\n",
       "        <span style=\"color: #808000; text-decoration-color: #808000\">num_workers</span>=<span style=\"color: #008000; text-decoration-color: #008000\">'auto'</span>,\n",
       "        <span style=\"color: #808000; text-decoration-color: #808000\">pin_memory</span>=<span style=\"color: #00ff00; text-decoration-color: #00ff00; font-style: italic\">True</span>,\n",
       "        <span style=\"color: #808000; text-decoration-color: #808000\">train</span>=<span style=\"color: #800080; text-decoration-color: #800080; font-weight: bold\">OMAT24DatasetConfig</span><span style=\"font-weight: bold\">(</span><span style=\"color: #808000; text-decoration-color: #808000\">type</span>=<span style=\"color: #008000; text-decoration-color: #008000\">'omat24'</span>, <span style=\"color: #808000; text-decoration-color: #808000\">src</span>=<span style=\"color: #800080; text-decoration-color: #800080; font-weight: bold\">Path</span><span style=\"font-weight: bold\">(</span><span style=\"color: #008000; text-decoration-color: #008000\">'/mnt/datasets/salex/val'</span><span style=\"font-weight: bold\">))</span>,\n",
       "        <span style=\"color: #808000; text-decoration-color: #808000\">validation</span>=<span style=\"color: #800080; text-decoration-color: #800080; font-style: italic\">None</span>\n",
       "    <span style=\"font-weight: bold\">)</span>,\n",
       "    <span style=\"color: #808000; text-decoration-color: #808000\">model</span>=<span style=\"color: #800080; text-decoration-color: #800080; font-weight: bold\">JMPBackboneConfig</span><span style=\"font-weight: bold\">(</span>\n",
       "        <span style=\"color: #808000; text-decoration-color: #808000\">properties</span>=<span style=\"font-weight: bold\">[</span>\n",
       "            <span style=\"color: #800080; text-decoration-color: #800080; font-weight: bold\">EnergyPropertyConfig</span><span style=\"font-weight: bold\">(</span>\n",
       "                <span style=\"color: #808000; text-decoration-color: #808000\">name</span>=<span style=\"color: #008000; text-decoration-color: #008000\">'energy'</span>,\n",
       "                <span style=\"color: #808000; text-decoration-color: #808000\">dtype</span>=<span style=\"color: #008000; text-decoration-color: #008000\">'float'</span>,\n",
       "                <span style=\"color: #808000; text-decoration-color: #808000\">loss</span>=<span style=\"color: #800080; text-decoration-color: #800080; font-weight: bold\">MAELossConfig</span><span style=\"font-weight: bold\">(</span><span style=\"color: #808000; text-decoration-color: #808000\">name</span>=<span style=\"color: #008000; text-decoration-color: #008000\">'mae'</span>, <span style=\"color: #808000; text-decoration-color: #808000\">reduction</span>=<span style=\"color: #008000; text-decoration-color: #008000\">'mean'</span><span style=\"font-weight: bold\">)</span>,\n",
       "                <span style=\"color: #808000; text-decoration-color: #808000\">loss_coefficient</span>=<span style=\"color: #008080; text-decoration-color: #008080; font-weight: bold\">1.0</span>,\n",
       "                <span style=\"color: #808000; text-decoration-color: #808000\">type</span>=<span style=\"color: #008000; text-decoration-color: #008000\">'energy'</span>\n",
       "            <span style=\"font-weight: bold\">)</span>,\n",
       "            <span style=\"color: #800080; text-decoration-color: #800080; font-weight: bold\">ForcesPropertyConfig</span><span style=\"font-weight: bold\">(</span>\n",
       "                <span style=\"color: #808000; text-decoration-color: #808000\">name</span>=<span style=\"color: #008000; text-decoration-color: #008000\">'forces'</span>,\n",
       "                <span style=\"color: #808000; text-decoration-color: #808000\">dtype</span>=<span style=\"color: #008000; text-decoration-color: #008000\">'float'</span>,\n",
       "                <span style=\"color: #808000; text-decoration-color: #808000\">loss</span>=<span style=\"color: #800080; text-decoration-color: #800080; font-weight: bold\">MAELossConfig</span><span style=\"font-weight: bold\">(</span><span style=\"color: #808000; text-decoration-color: #808000\">name</span>=<span style=\"color: #008000; text-decoration-color: #008000\">'mae'</span>, <span style=\"color: #808000; text-decoration-color: #808000\">reduction</span>=<span style=\"color: #008000; text-decoration-color: #008000\">'mean'</span><span style=\"font-weight: bold\">)</span>,\n",
       "                <span style=\"color: #808000; text-decoration-color: #808000\">loss_coefficient</span>=<span style=\"color: #008080; text-decoration-color: #008080; font-weight: bold\">1.0</span>,\n",
       "                <span style=\"color: #808000; text-decoration-color: #808000\">type</span>=<span style=\"color: #008000; text-decoration-color: #008000\">'forces'</span>,\n",
       "                <span style=\"color: #808000; text-decoration-color: #808000\">conservative</span>=<span style=\"color: #ff0000; text-decoration-color: #ff0000; font-style: italic\">False</span>\n",
       "            <span style=\"font-weight: bold\">)</span>,\n",
       "            <span style=\"color: #800080; text-decoration-color: #800080; font-weight: bold\">StressesPropertyConfig</span><span style=\"font-weight: bold\">(</span>\n",
       "                <span style=\"color: #808000; text-decoration-color: #808000\">name</span>=<span style=\"color: #008000; text-decoration-color: #008000\">'stresses'</span>,\n",
       "                <span style=\"color: #808000; text-decoration-color: #808000\">dtype</span>=<span style=\"color: #008000; text-decoration-color: #008000\">'float'</span>,\n",
       "                <span style=\"color: #808000; text-decoration-color: #808000\">loss</span>=<span style=\"color: #800080; text-decoration-color: #800080; font-weight: bold\">MAELossConfig</span><span style=\"font-weight: bold\">(</span><span style=\"color: #808000; text-decoration-color: #808000\">name</span>=<span style=\"color: #008000; text-decoration-color: #008000\">'mae'</span>, <span style=\"color: #808000; text-decoration-color: #808000\">reduction</span>=<span style=\"color: #008000; text-decoration-color: #008000\">'mean'</span><span style=\"font-weight: bold\">)</span>,\n",
       "                <span style=\"color: #808000; text-decoration-color: #808000\">loss_coefficient</span>=<span style=\"color: #008080; text-decoration-color: #008080; font-weight: bold\">1.0</span>,\n",
       "                <span style=\"color: #808000; text-decoration-color: #808000\">type</span>=<span style=\"color: #008000; text-decoration-color: #008000\">'stresses'</span>,\n",
       "                <span style=\"color: #808000; text-decoration-color: #808000\">conservative</span>=<span style=\"color: #ff0000; text-decoration-color: #ff0000; font-style: italic\">False</span>\n",
       "            <span style=\"font-weight: bold\">)</span>\n",
       "        <span style=\"font-weight: bold\">]</span>,\n",
       "        <span style=\"color: #808000; text-decoration-color: #808000\">optimizer</span>=<span style=\"color: #800080; text-decoration-color: #800080; font-weight: bold\">AdamWConfig</span><span style=\"font-weight: bold\">(</span>\n",
       "            <span style=\"color: #808000; text-decoration-color: #808000\">name</span>=<span style=\"color: #008000; text-decoration-color: #008000\">'AdamW'</span>,\n",
       "            <span style=\"color: #808000; text-decoration-color: #808000\">lr</span>=<span style=\"color: #008080; text-decoration-color: #008080; font-weight: bold\">0.0001</span>,\n",
       "            <span style=\"color: #808000; text-decoration-color: #808000\">eps</span>=<span style=\"color: #008080; text-decoration-color: #008080; font-weight: bold\">1e-08</span>,\n",
       "            <span style=\"color: #808000; text-decoration-color: #808000\">betas</span>=<span style=\"font-weight: bold\">(</span><span style=\"color: #008080; text-decoration-color: #008080; font-weight: bold\">0.9</span>, <span style=\"color: #008080; text-decoration-color: #008080; font-weight: bold\">0.999</span><span style=\"font-weight: bold\">)</span>,\n",
       "            <span style=\"color: #808000; text-decoration-color: #808000\">weight_decay</span>=<span style=\"color: #008080; text-decoration-color: #008080; font-weight: bold\">0.01</span>,\n",
       "            <span style=\"color: #808000; text-decoration-color: #808000\">amsgrad</span>=<span style=\"color: #ff0000; text-decoration-color: #ff0000; font-style: italic\">False</span>\n",
       "        <span style=\"font-weight: bold\">)</span>,\n",
       "        <span style=\"color: #808000; text-decoration-color: #808000\">lr_scheduler</span>=<span style=\"color: #800080; text-decoration-color: #800080; font-style: italic\">None</span>,\n",
       "        <span style=\"color: #808000; text-decoration-color: #808000\">ignore_gpu_batch_transform_error</span>=<span style=\"color: #00ff00; text-decoration-color: #00ff00; font-style: italic\">True</span>,\n",
       "        <span style=\"color: #808000; text-decoration-color: #808000\">normalizers</span>=<span style=\"font-weight: bold\">{}</span>,\n",
       "        <span style=\"color: #808000; text-decoration-color: #808000\">name</span>=<span style=\"color: #008000; text-decoration-color: #008000\">'jmp'</span>,\n",
       "        <span style=\"color: #808000; text-decoration-color: #808000\">ckpt_path</span>=<span style=\"color: #800080; text-decoration-color: #800080; font-weight: bold\">Path</span><span style=\"font-weight: bold\">(</span><span style=\"color: #008000; text-decoration-color: #008000\">'/mnt/shared/checkpoints/jmp-l.pt'</span><span style=\"font-weight: bold\">)</span>,\n",
       "        <span style=\"color: #808000; text-decoration-color: #808000\">graph_computer</span>=<span style=\"color: #800080; text-decoration-color: #800080; font-weight: bold\">JMPGraphComputerConfig</span><span style=\"font-weight: bold\">(</span>\n",
       "            <span style=\"color: #808000; text-decoration-color: #808000\">pbc</span>=<span style=\"color: #00ff00; text-decoration-color: #00ff00; font-style: italic\">True</span>,\n",
       "            <span style=\"color: #808000; text-decoration-color: #808000\">cutoffs</span>=<span style=\"color: #800080; text-decoration-color: #800080; font-weight: bold\">CutoffsConfig</span><span style=\"font-weight: bold\">(</span><span style=\"color: #808000; text-decoration-color: #808000\">main</span>=<span style=\"color: #008080; text-decoration-color: #008080; font-weight: bold\">12.0</span>, <span style=\"color: #808000; text-decoration-color: #808000\">aeaint</span>=<span style=\"color: #008080; text-decoration-color: #008080; font-weight: bold\">12.0</span>, <span style=\"color: #808000; text-decoration-color: #808000\">qint</span>=<span style=\"color: #008080; text-decoration-color: #008080; font-weight: bold\">12.0</span>, <span style=\"color: #808000; text-decoration-color: #808000\">aint</span>=<span style=\"color: #008080; text-decoration-color: #008080; font-weight: bold\">12.0</span><span style=\"font-weight: bold\">)</span>,\n",
       "            <span style=\"color: #808000; text-decoration-color: #808000\">max_neighbors</span>=<span style=\"color: #800080; text-decoration-color: #800080; font-weight: bold\">MaxNeighborsConfig</span><span style=\"font-weight: bold\">(</span><span style=\"color: #808000; text-decoration-color: #808000\">main</span>=<span style=\"color: #008080; text-decoration-color: #008080; font-weight: bold\">30</span>, <span style=\"color: #808000; text-decoration-color: #808000\">aeaint</span>=<span style=\"color: #008080; text-decoration-color: #008080; font-weight: bold\">20</span>, <span style=\"color: #808000; text-decoration-color: #808000\">qint</span>=<span style=\"color: #008080; text-decoration-color: #008080; font-weight: bold\">8</span>, <span style=\"color: #808000; text-decoration-color: #808000\">aint</span>=<span style=\"color: #008080; text-decoration-color: #008080; font-weight: bold\">1000</span><span style=\"font-weight: bold\">)</span>,\n",
       "            <span style=\"color: #808000; text-decoration-color: #808000\">per_graph_radius_graph</span>=<span style=\"color: #ff0000; text-decoration-color: #ff0000; font-style: italic\">False</span>\n",
       "        <span style=\"font-weight: bold\">)</span>\n",
       "    <span style=\"font-weight: bold\">)</span>,\n",
       "    <span style=\"color: #808000; text-decoration-color: #808000\">trainer</span>=<span style=\"color: #800080; text-decoration-color: #800080; font-weight: bold\">TrainerConfig</span><span style=\"font-weight: bold\">(</span>\n",
       "        <span style=\"color: #808000; text-decoration-color: #808000\">accelerator</span>=<span style=\"color: #008000; text-decoration-color: #008000\">'auto'</span>,\n",
       "        <span style=\"color: #808000; text-decoration-color: #808000\">strategy</span>=<span style=\"color: #008000; text-decoration-color: #008000\">'auto'</span>,\n",
       "        <span style=\"color: #808000; text-decoration-color: #808000\">num_nodes</span>=<span style=\"color: #008080; text-decoration-color: #008080; font-weight: bold\">1</span>,\n",
       "        <span style=\"color: #808000; text-decoration-color: #808000\">devices</span>=<span style=\"color: #008000; text-decoration-color: #008000\">'auto'</span>,\n",
       "        <span style=\"color: #808000; text-decoration-color: #808000\">precision</span>=<span style=\"color: #008000; text-decoration-color: #008000\">'32-true'</span>,\n",
       "        <span style=\"color: #808000; text-decoration-color: #808000\">deterministic</span>=<span style=\"color: #800080; text-decoration-color: #800080; font-style: italic\">None</span>,\n",
       "        <span style=\"color: #808000; text-decoration-color: #808000\">max_epochs</span>=<span style=\"color: #800080; text-decoration-color: #800080; font-style: italic\">None</span>,\n",
       "        <span style=\"color: #808000; text-decoration-color: #808000\">min_epochs</span>=<span style=\"color: #800080; text-decoration-color: #800080; font-style: italic\">None</span>,\n",
       "        <span style=\"color: #808000; text-decoration-color: #808000\">max_steps</span>=<span style=\"color: #008080; text-decoration-color: #008080; font-weight: bold\">-1</span>,\n",
       "        <span style=\"color: #808000; text-decoration-color: #808000\">min_steps</span>=<span style=\"color: #800080; text-decoration-color: #800080; font-style: italic\">None</span>,\n",
       "        <span style=\"color: #808000; text-decoration-color: #808000\">max_time</span>=<span style=\"color: #800080; text-decoration-color: #800080; font-style: italic\">None</span>,\n",
       "        <span style=\"color: #808000; text-decoration-color: #808000\">val_check_interval</span>=<span style=\"color: #800080; text-decoration-color: #800080; font-style: italic\">None</span>,\n",
       "        <span style=\"color: #808000; text-decoration-color: #808000\">check_val_every_n_epoch</span>=<span style=\"color: #008080; text-decoration-color: #008080; font-weight: bold\">1</span>,\n",
       "        <span style=\"color: #808000; text-decoration-color: #808000\">log_every_n_steps</span>=<span style=\"color: #800080; text-decoration-color: #800080; font-style: italic\">None</span>,\n",
       "        <span style=\"color: #808000; text-decoration-color: #808000\">gradient_clip_val</span>=<span style=\"color: #800080; text-decoration-color: #800080; font-style: italic\">None</span>,\n",
       "        <span style=\"color: #808000; text-decoration-color: #808000\">gradient_clip_algorithm</span>=<span style=\"color: #800080; text-decoration-color: #800080; font-style: italic\">None</span>,\n",
       "        <span style=\"color: #808000; text-decoration-color: #808000\">checkpoint</span>=<span style=\"color: #800080; text-decoration-color: #800080; font-style: italic\">None</span>,\n",
       "        <span style=\"color: #808000; text-decoration-color: #808000\">early_stopping</span>=<span style=\"color: #800080; text-decoration-color: #800080; font-style: italic\">None</span>,\n",
       "        <span style=\"color: #808000; text-decoration-color: #808000\">loggers</span>=<span style=\"color: #008000; text-decoration-color: #008000\">'default'</span>,\n",
       "        <span style=\"color: #808000; text-decoration-color: #808000\">additional_trainer_kwargs</span>=<span style=\"font-weight: bold\">{</span><span style=\"color: #008000; text-decoration-color: #008000\">'fast_dev_run'</span>: <span style=\"color: #00ff00; text-decoration-color: #00ff00; font-style: italic\">True</span><span style=\"font-weight: bold\">}</span>\n",
       "    <span style=\"font-weight: bold\">)</span>\n",
       "<span style=\"font-weight: bold\">)</span>\n",
       "</pre>\n"
      ],
      "text/plain": [
       "\u001b[1;35mMatterTunerConfig\u001b[0m\u001b[1m(\u001b[0m\n",
       "    \u001b[33mdata\u001b[0m=\u001b[1;35mManualSplitDataModuleConfig\u001b[0m\u001b[1m(\u001b[0m\n",
       "        \u001b[33mbatch_size\u001b[0m=\u001b[1;36m1\u001b[0m,\n",
       "        \u001b[33mnum_workers\u001b[0m=\u001b[32m'auto'\u001b[0m,\n",
       "        \u001b[33mpin_memory\u001b[0m=\u001b[3;92mTrue\u001b[0m,\n",
       "        \u001b[33mtrain\u001b[0m=\u001b[1;35mOMAT24DatasetConfig\u001b[0m\u001b[1m(\u001b[0m\u001b[33mtype\u001b[0m=\u001b[32m'omat24'\u001b[0m, \u001b[33msrc\u001b[0m=\u001b[1;35mPath\u001b[0m\u001b[1m(\u001b[0m\u001b[32m'/mnt/datasets/salex/val'\u001b[0m\u001b[1m)\u001b[0m\u001b[1m)\u001b[0m,\n",
       "        \u001b[33mvalidation\u001b[0m=\u001b[3;35mNone\u001b[0m\n",
       "    \u001b[1m)\u001b[0m,\n",
       "    \u001b[33mmodel\u001b[0m=\u001b[1;35mJMPBackboneConfig\u001b[0m\u001b[1m(\u001b[0m\n",
       "        \u001b[33mproperties\u001b[0m=\u001b[1m[\u001b[0m\n",
       "            \u001b[1;35mEnergyPropertyConfig\u001b[0m\u001b[1m(\u001b[0m\n",
       "                \u001b[33mname\u001b[0m=\u001b[32m'energy'\u001b[0m,\n",
       "                \u001b[33mdtype\u001b[0m=\u001b[32m'float'\u001b[0m,\n",
       "                \u001b[33mloss\u001b[0m=\u001b[1;35mMAELossConfig\u001b[0m\u001b[1m(\u001b[0m\u001b[33mname\u001b[0m=\u001b[32m'mae'\u001b[0m, \u001b[33mreduction\u001b[0m=\u001b[32m'mean'\u001b[0m\u001b[1m)\u001b[0m,\n",
       "                \u001b[33mloss_coefficient\u001b[0m=\u001b[1;36m1\u001b[0m\u001b[1;36m.0\u001b[0m,\n",
       "                \u001b[33mtype\u001b[0m=\u001b[32m'energy'\u001b[0m\n",
       "            \u001b[1m)\u001b[0m,\n",
       "            \u001b[1;35mForcesPropertyConfig\u001b[0m\u001b[1m(\u001b[0m\n",
       "                \u001b[33mname\u001b[0m=\u001b[32m'forces'\u001b[0m,\n",
       "                \u001b[33mdtype\u001b[0m=\u001b[32m'float'\u001b[0m,\n",
       "                \u001b[33mloss\u001b[0m=\u001b[1;35mMAELossConfig\u001b[0m\u001b[1m(\u001b[0m\u001b[33mname\u001b[0m=\u001b[32m'mae'\u001b[0m, \u001b[33mreduction\u001b[0m=\u001b[32m'mean'\u001b[0m\u001b[1m)\u001b[0m,\n",
       "                \u001b[33mloss_coefficient\u001b[0m=\u001b[1;36m1\u001b[0m\u001b[1;36m.0\u001b[0m,\n",
       "                \u001b[33mtype\u001b[0m=\u001b[32m'forces'\u001b[0m,\n",
       "                \u001b[33mconservative\u001b[0m=\u001b[3;91mFalse\u001b[0m\n",
       "            \u001b[1m)\u001b[0m,\n",
       "            \u001b[1;35mStressesPropertyConfig\u001b[0m\u001b[1m(\u001b[0m\n",
       "                \u001b[33mname\u001b[0m=\u001b[32m'stresses'\u001b[0m,\n",
       "                \u001b[33mdtype\u001b[0m=\u001b[32m'float'\u001b[0m,\n",
       "                \u001b[33mloss\u001b[0m=\u001b[1;35mMAELossConfig\u001b[0m\u001b[1m(\u001b[0m\u001b[33mname\u001b[0m=\u001b[32m'mae'\u001b[0m, \u001b[33mreduction\u001b[0m=\u001b[32m'mean'\u001b[0m\u001b[1m)\u001b[0m,\n",
       "                \u001b[33mloss_coefficient\u001b[0m=\u001b[1;36m1\u001b[0m\u001b[1;36m.0\u001b[0m,\n",
       "                \u001b[33mtype\u001b[0m=\u001b[32m'stresses'\u001b[0m,\n",
       "                \u001b[33mconservative\u001b[0m=\u001b[3;91mFalse\u001b[0m\n",
       "            \u001b[1m)\u001b[0m\n",
       "        \u001b[1m]\u001b[0m,\n",
       "        \u001b[33moptimizer\u001b[0m=\u001b[1;35mAdamWConfig\u001b[0m\u001b[1m(\u001b[0m\n",
       "            \u001b[33mname\u001b[0m=\u001b[32m'AdamW'\u001b[0m,\n",
       "            \u001b[33mlr\u001b[0m=\u001b[1;36m0\u001b[0m\u001b[1;36m.0001\u001b[0m,\n",
       "            \u001b[33meps\u001b[0m=\u001b[1;36m1e\u001b[0m\u001b[1;36m-08\u001b[0m,\n",
       "            \u001b[33mbetas\u001b[0m=\u001b[1m(\u001b[0m\u001b[1;36m0.9\u001b[0m, \u001b[1;36m0.999\u001b[0m\u001b[1m)\u001b[0m,\n",
       "            \u001b[33mweight_decay\u001b[0m=\u001b[1;36m0\u001b[0m\u001b[1;36m.01\u001b[0m,\n",
       "            \u001b[33mamsgrad\u001b[0m=\u001b[3;91mFalse\u001b[0m\n",
       "        \u001b[1m)\u001b[0m,\n",
       "        \u001b[33mlr_scheduler\u001b[0m=\u001b[3;35mNone\u001b[0m,\n",
       "        \u001b[33mignore_gpu_batch_transform_error\u001b[0m=\u001b[3;92mTrue\u001b[0m,\n",
       "        \u001b[33mnormalizers\u001b[0m=\u001b[1m{\u001b[0m\u001b[1m}\u001b[0m,\n",
       "        \u001b[33mname\u001b[0m=\u001b[32m'jmp'\u001b[0m,\n",
       "        \u001b[33mckpt_path\u001b[0m=\u001b[1;35mPath\u001b[0m\u001b[1m(\u001b[0m\u001b[32m'/mnt/shared/checkpoints/jmp-l.pt'\u001b[0m\u001b[1m)\u001b[0m,\n",
       "        \u001b[33mgraph_computer\u001b[0m=\u001b[1;35mJMPGraphComputerConfig\u001b[0m\u001b[1m(\u001b[0m\n",
       "            \u001b[33mpbc\u001b[0m=\u001b[3;92mTrue\u001b[0m,\n",
       "            \u001b[33mcutoffs\u001b[0m=\u001b[1;35mCutoffsConfig\u001b[0m\u001b[1m(\u001b[0m\u001b[33mmain\u001b[0m=\u001b[1;36m12\u001b[0m\u001b[1;36m.0\u001b[0m, \u001b[33maeaint\u001b[0m=\u001b[1;36m12\u001b[0m\u001b[1;36m.0\u001b[0m, \u001b[33mqint\u001b[0m=\u001b[1;36m12\u001b[0m\u001b[1;36m.0\u001b[0m, \u001b[33maint\u001b[0m=\u001b[1;36m12\u001b[0m\u001b[1;36m.0\u001b[0m\u001b[1m)\u001b[0m,\n",
       "            \u001b[33mmax_neighbors\u001b[0m=\u001b[1;35mMaxNeighborsConfig\u001b[0m\u001b[1m(\u001b[0m\u001b[33mmain\u001b[0m=\u001b[1;36m30\u001b[0m, \u001b[33maeaint\u001b[0m=\u001b[1;36m20\u001b[0m, \u001b[33mqint\u001b[0m=\u001b[1;36m8\u001b[0m, \u001b[33maint\u001b[0m=\u001b[1;36m1000\u001b[0m\u001b[1m)\u001b[0m,\n",
       "            \u001b[33mper_graph_radius_graph\u001b[0m=\u001b[3;91mFalse\u001b[0m\n",
       "        \u001b[1m)\u001b[0m\n",
       "    \u001b[1m)\u001b[0m,\n",
       "    \u001b[33mtrainer\u001b[0m=\u001b[1;35mTrainerConfig\u001b[0m\u001b[1m(\u001b[0m\n",
       "        \u001b[33maccelerator\u001b[0m=\u001b[32m'auto'\u001b[0m,\n",
       "        \u001b[33mstrategy\u001b[0m=\u001b[32m'auto'\u001b[0m,\n",
       "        \u001b[33mnum_nodes\u001b[0m=\u001b[1;36m1\u001b[0m,\n",
       "        \u001b[33mdevices\u001b[0m=\u001b[32m'auto'\u001b[0m,\n",
       "        \u001b[33mprecision\u001b[0m=\u001b[32m'32-true'\u001b[0m,\n",
       "        \u001b[33mdeterministic\u001b[0m=\u001b[3;35mNone\u001b[0m,\n",
       "        \u001b[33mmax_epochs\u001b[0m=\u001b[3;35mNone\u001b[0m,\n",
       "        \u001b[33mmin_epochs\u001b[0m=\u001b[3;35mNone\u001b[0m,\n",
       "        \u001b[33mmax_steps\u001b[0m=\u001b[1;36m-1\u001b[0m,\n",
       "        \u001b[33mmin_steps\u001b[0m=\u001b[3;35mNone\u001b[0m,\n",
       "        \u001b[33mmax_time\u001b[0m=\u001b[3;35mNone\u001b[0m,\n",
       "        \u001b[33mval_check_interval\u001b[0m=\u001b[3;35mNone\u001b[0m,\n",
       "        \u001b[33mcheck_val_every_n_epoch\u001b[0m=\u001b[1;36m1\u001b[0m,\n",
       "        \u001b[33mlog_every_n_steps\u001b[0m=\u001b[3;35mNone\u001b[0m,\n",
       "        \u001b[33mgradient_clip_val\u001b[0m=\u001b[3;35mNone\u001b[0m,\n",
       "        \u001b[33mgradient_clip_algorithm\u001b[0m=\u001b[3;35mNone\u001b[0m,\n",
       "        \u001b[33mcheckpoint\u001b[0m=\u001b[3;35mNone\u001b[0m,\n",
       "        \u001b[33mearly_stopping\u001b[0m=\u001b[3;35mNone\u001b[0m,\n",
       "        \u001b[33mloggers\u001b[0m=\u001b[32m'default'\u001b[0m,\n",
       "        \u001b[33madditional_trainer_kwargs\u001b[0m=\u001b[1m{\u001b[0m\u001b[32m'fast_dev_run'\u001b[0m: \u001b[3;92mTrue\u001b[0m\u001b[1m}\u001b[0m\n",
       "    \u001b[1m)\u001b[0m\n",
       "\u001b[1m)\u001b[0m\n"
      ]
     },
     "metadata": {},
     "output_type": "display_data"
    }
   ],
   "source": [
    "from __future__ import annotations\n",
    "\n",
    "import os\n",
    "from pathlib import Path\n",
    "\n",
    "import mattertune.configs as MC\n",
    "from mattertune import MatterTuner\n",
    "\n",
    "os.environ[\"CUDA_LAUNCH_BLOCKING\"] = \"1\"\n",
    "\n",
    "\n",
    "def hparams():\n",
    "    hparams = MC.MatterTunerConfig.draft()\n",
    "\n",
    "    # Model hparams\n",
    "    hparams.model = MC.JMPBackboneConfig.draft()\n",
    "    hparams.model.graph_computer = MC.JMPGraphComputerConfig.draft()\n",
    "    hparams.model.graph_computer.pbc = True\n",
    "\n",
    "    hparams.model.ckpt_path = Path(\"/mnt/shared/checkpoints/jmp-l.pt\")\n",
    "    hparams.model.ignore_gpu_batch_transform_error = True\n",
    "    hparams.model.optimizer = MC.AdamWConfig(lr=1.0e-4)\n",
    "\n",
    "    hparams.model.properties = []\n",
    "    energy = MC.EnergyPropertyConfig(loss=MC.MAELossConfig())\n",
    "    hparams.model.properties.append(energy)\n",
    "    forces = MC.ForcesPropertyConfig(loss=MC.MAELossConfig(), conservative=False)\n",
    "    hparams.model.properties.append(forces)\n",
    "    stresses = MC.StressesPropertyConfig(loss=MC.MAELossConfig(), conservative=False)\n",
    "    hparams.model.properties.append(stresses)\n",
    "\n",
    "    # Data hparams\n",
    "    hparams.data = MC.ManualSplitDataModuleConfig.draft()\n",
    "    hparams.data.train = MC.OMAT24DatasetConfig.draft()\n",
    "    hparams.data.train.src = Path(\"/mnt/datasets/salex/val/\")\n",
    "    hparams.data.batch_size = 1\n",
    "\n",
    "    # Trainer hparams\n",
    "    hparams.trainer.additional_trainer_kwargs = {\"fast_dev_run\": True}\n",
    "\n",
    "    hparams = hparams.finalize()\n",
    "    return hparams\n",
    "\n",
    "\n",
    "hp = hparams()\n",
    "rich.print(hp)"
   ]
  },
  {
   "cell_type": "code",
   "execution_count": null,
   "metadata": {},
   "outputs": [],
   "source": [
    "output = MatterTuner(hp).tune()\n",
    "output"
   ]
  },
  {
   "cell_type": "code",
   "execution_count": 3,
   "metadata": {},
   "outputs": [
    {
     "name": "stdout",
     "output_type": "stream",
     "text": [
      "<mattertune.wrappers.property_predictor.MatterTunePropertyPredictor object at 0x71641cf02a50>\n",
      "<mattertune.wrappers.ase_calculator.MatterTuneCalculator object at 0x71641cf02d50>\n"
     ]
    }
   ],
   "source": [
    "property_predictor = output.model.property_predictor()\n",
    "print(property_predictor)\n",
    "\n",
    "calculator = output.model.ase_calculator()\n",
    "print(calculator)"
   ]
  },
  {
   "cell_type": "code",
   "execution_count": 4,
   "metadata": {},
   "outputs": [
    {
     "name": "stderr",
     "output_type": "stream",
     "text": [
      "You are running in `Trainer(barebones=True)` mode. All features that may impact raw speed have been disabled to facilitate analyzing the Trainer overhead. Specifically, the following features are deactivated:\n",
      " - Checkpointing: `Trainer(enable_checkpointing=True)`\n",
      " - Progress bar: `Trainer(enable_progress_bar=True)`\n",
      " - Model summary: `Trainer(enable_model_summary=True)`\n",
      " - Logging: `Trainer(logger=True)`, `Trainer(log_every_n_steps>0)`, `LightningModule.log(...)`, `LightningModule.log_dict(...)`\n",
      " - Sanity checking: `Trainer(num_sanity_val_steps>0)`\n",
      " - Development run: `Trainer(fast_dev_run=True)`\n",
      " - Anomaly detection: `Trainer(detect_anomaly=True)`\n",
      " - Profiling: `Trainer(profiler=...)`\n",
      "Trainer will use only 1 of 2 GPUs because it is running inside an interactive / notebook environment. You may try to set `Trainer(devices=2)` but please note that multi-GPU inside interactive / notebook environments is considered experimental and unstable. Your mileage may vary.\n",
      "GPU available: True (cuda), used: True\n",
      "TPU available: False, using: 0 TPU cores\n",
      "IPU available: False, using: 0 IPUs\n",
      "HPU available: False, using: 0 HPUs\n",
      "`Trainer(barebones=True)` started running. The progress bar is disabled so you might want to manually print the progress in your model.\n",
      "LOCAL_RANK: 0 - CUDA_VISIBLE_DEVICES: [0,1]\n"
     ]
    },
    {
     "name": "stdout",
     "output_type": "stream",
     "text": [
      "Atoms(symbols='H2O', pbc=True, cell=[10.0, 10.0, 10.0])\n"
     ]
    },
    {
     "name": "stderr",
     "output_type": "stream",
     "text": [
      "/opt/conda/envs/jmp-peft/lib/python3.11/site-packages/lightning/pytorch/trainer/connectors/data_connector.py:441: The 'predict_dataloader' does not have many workers which may be a bottleneck. Consider increasing the value of the `num_workers` argument` to `num_workers=31` in the `DataLoader` to improve performance.\n"
     ]
    },
    {
     "name": "stdout",
     "output_type": "stream",
     "text": [
      "[{'energy': tensor[1] [-6.336], 'stresses': tensor[1, 3, 3] n=9 x∈[-0.253, 2.674e-06] μ=-0.093 σ=0.117 [[[-0.253, -6.240e-07, 2.674e-06], [-6.240e-07, -0.238, -0.047], [2.674e-06, -0.047, -0.250]]], 'forces': tensor[3, 3] n=9 x∈[-0.955, 1.512] μ=0.016 σ=0.839 [[-0.002, -0.955, -0.397], [0.000, 1.194, -0.852], [-0.002, -0.353, 1.512]]}]\n"
     ]
    }
   ],
   "source": [
    "import ase\n",
    "\n",
    "# Create a test periodic system\n",
    "atoms = ase.Atoms(\n",
    "    \"H2O\", positions=[[0, 0, 0], [0, 0, 1], [0, 1, 0]], cell=[10, 10, 10], pbc=True\n",
    ")\n",
    "print(atoms)\n",
    "\n",
    "print(property_predictor.predict([atoms]))"
   ]
  },
  {
   "cell_type": "code",
   "execution_count": 5,
   "metadata": {},
   "outputs": [
    {
     "name": "stderr",
     "output_type": "stream",
     "text": [
      "You are running in `Trainer(barebones=True)` mode. All features that may impact raw speed have been disabled to facilitate analyzing the Trainer overhead. Specifically, the following features are deactivated:\n",
      " - Checkpointing: `Trainer(enable_checkpointing=True)`\n",
      " - Progress bar: `Trainer(enable_progress_bar=True)`\n",
      " - Model summary: `Trainer(enable_model_summary=True)`\n",
      " - Logging: `Trainer(logger=True)`, `Trainer(log_every_n_steps>0)`, `LightningModule.log(...)`, `LightningModule.log_dict(...)`\n",
      " - Sanity checking: `Trainer(num_sanity_val_steps>0)`\n",
      " - Development run: `Trainer(fast_dev_run=True)`\n",
      " - Anomaly detection: `Trainer(detect_anomaly=True)`\n",
      " - Profiling: `Trainer(profiler=...)`\n",
      "Trainer will use only 1 of 2 GPUs because it is running inside an interactive / notebook environment. You may try to set `Trainer(devices=2)` but please note that multi-GPU inside interactive / notebook environments is considered experimental and unstable. Your mileage may vary.\n",
      "GPU available: True (cuda), used: True\n",
      "TPU available: False, using: 0 TPU cores\n",
      "IPU available: False, using: 0 IPUs\n",
      "HPU available: False, using: 0 HPUs\n",
      "`Trainer(barebones=True)` started running. The progress bar is disabled so you might want to manually print the progress in your model.\n",
      "LOCAL_RANK: 0 - CUDA_VISIBLE_DEVICES: [0,1]\n"
     ]
    },
    {
     "name": "stdout",
     "output_type": "stream",
     "text": [
      "Atoms(symbols='H2O', pbc=True, cell=[10.0, 10.0, 10.0])\n"
     ]
    },
    {
     "name": "stdout",
     "output_type": "stream",
     "text": [
      "-6.336277961730957\n"
     ]
    }
   ],
   "source": [
    "import ase\n",
    "\n",
    "# Create a test periodic system\n",
    "atoms = ase.Atoms(\n",
    "    \"H2O\", positions=[[0, 0, 0], [0, 0, 1], [0, 1, 0]], cell=[10, 10, 10], pbc=True\n",
    ")\n",
    "print(atoms)\n",
    "\n",
    "# Set the calculator\n",
    "atoms.calc = calculator\n",
    "\n",
    "# Calculate the energy\n",
    "energy = atoms.get_potential_energy()\n",
    "print(energy)"
   ]
  },
  {
   "cell_type": "code",
   "execution_count": 6,
   "metadata": {},
   "outputs": [
    {
     "name": "stderr",
     "output_type": "stream",
     "text": [
      "You are running in `Trainer(barebones=True)` mode. All features that may impact raw speed have been disabled to facilitate analyzing the Trainer overhead. Specifically, the following features are deactivated:\n",
      " - Checkpointing: `Trainer(enable_checkpointing=True)`\n",
      " - Progress bar: `Trainer(enable_progress_bar=True)`\n",
      " - Model summary: `Trainer(enable_model_summary=True)`\n",
      " - Logging: `Trainer(logger=True)`, `Trainer(log_every_n_steps>0)`, `LightningModule.log(...)`, `LightningModule.log_dict(...)`\n",
      " - Sanity checking: `Trainer(num_sanity_val_steps>0)`\n",
      " - Development run: `Trainer(fast_dev_run=True)`\n",
      " - Anomaly detection: `Trainer(detect_anomaly=True)`\n",
      " - Profiling: `Trainer(profiler=...)`\n",
      "Trainer will use only 1 of 2 GPUs because it is running inside an interactive / notebook environment. You may try to set `Trainer(devices=2)` but please note that multi-GPU inside interactive / notebook environments is considered experimental and unstable. Your mileage may vary.\n",
      "GPU available: True (cuda), used: True\n",
      "TPU available: False, using: 0 TPU cores\n",
      "IPU available: False, using: 0 IPUs\n",
      "HPU available: False, using: 0 HPUs\n",
      "`Trainer(barebones=True)` started running. The progress bar is disabled so you might want to manually print the progress in your model.\n",
      "LOCAL_RANK: 0 - CUDA_VISIBLE_DEVICES: [0,1]\n"
     ]
    },
    {
     "name": "stdout",
     "output_type": "stream",
     "text": [
      "ase.Atoms 1 energy: tensor[1] [-6.336]\n",
      "ase.Atoms 1 forces: tensor[3, 3] n=9 x∈[-0.955, 1.512] μ=0.016 σ=0.839 [[-0.002, -0.955, -0.397], [0.000, 1.194, -0.852], [-0.002, -0.353, 1.512]]\n",
      "ase.Atoms 2 energy: tensor[1] [-6.336]\n",
      "ase.Atoms 2 forces: tensor[3, 3] n=9 x∈[-0.955, 1.512] μ=0.016 σ=0.839 [[-0.002, -0.955, -0.397], [0.000, 1.194, -0.852], [-0.002, -0.353, 1.512]]\n"
     ]
    }
   ],
   "source": [
    "property_predictor = output.model.property_predictor()\n",
    "atoms_1 = ase.Atoms(\n",
    "    \"H2O\", positions=[[0, 0, 0], [0, 0, 1], [0, 1, 0]], cell=[10, 10, 10], pbc=True\n",
    ")\n",
    "atoms_2 = ase.Atoms(\n",
    "    \"H2O\", positions=[[0, 0, 0], [0, 0, 1], [0, 1, 0]], cell=[10, 10, 10], pbc=True\n",
    ")\n",
    "atoms = [atoms_1, atoms_2]\n",
    "predictions = property_predictor.predict(atoms, [\"energy\", \"forces\"])\n",
    "print(\"ase.Atoms 1 energy:\", predictions[0][\"energy\"])\n",
    "print(\"ase.Atoms 1 forces:\", predictions[0][\"forces\"])\n",
    "print(\"ase.Atoms 2 energy:\", predictions[1][\"energy\"])\n",
    "print(\"ase.Atoms 2 forces:\", predictions[1][\"forces\"])"
   ]
  }
 ],
 "metadata": {
  "kernelspec": {
   "display_name": "jmp-peft",
   "language": "python",
   "name": "python3"
  },
  "language_info": {
   "codemirror_mode": {
    "name": "ipython",
    "version": 3
   },
   "file_extension": ".py",
   "mimetype": "text/x-python",
   "name": "python",
   "nbconvert_exporter": "python",
   "pygments_lexer": "ipython3",
   "version": "3.11.6"
  }
 },
 "nbformat": 4,
 "nbformat_minor": 2
}
