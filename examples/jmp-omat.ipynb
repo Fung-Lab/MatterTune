{
 "cells": [
  {
   "cell_type": "code",
   "execution_count": 1,
   "metadata": {},
   "outputs": [],
   "source": [
    "import nshutils as nu\n",
    "import rich\n",
    "\n",
    "nu.pretty()"
   ]
  },
  {
   "cell_type": "code",
   "execution_count": null,
   "metadata": {},
   "outputs": [
    {
     "ename": "ValidationError",
     "evalue": "31 validation errors for MatterTunerConfig\ndata.train\n  Unable to extract tag using discriminator 'type' [type=union_tag_not_found, input_value={'src': '/mnt/datasets/salex/val/'}, input_type=dict]\n    For further information visit https://errors.pydantic.dev/2.8/v/union_tag_not_found\nmodel.jmp.properties.0.GraphPropertyConfig.name\n  Field required [type=missing, input_value={'type': 'energy', 'loss': {'type': 'mae'}}, input_type=dict]\n    For further information visit https://errors.pydantic.dev/2.8/v/missing\nmodel.jmp.properties.0.GraphPropertyConfig.dtype\n  Field required [type=missing, input_value={'type': 'energy', 'loss': {'type': 'mae'}}, input_type=dict]\n    For further information visit https://errors.pydantic.dev/2.8/v/missing\nmodel.jmp.properties.0.GraphPropertyConfig.loss\n  Unable to extract tag using discriminator 'name' [type=union_tag_not_found, input_value={'type': 'mae'}, input_type=dict]\n    For further information visit https://errors.pydantic.dev/2.8/v/union_tag_not_found\nmodel.jmp.properties.0.GraphPropertyConfig.type\n  Input should be 'graph_property' [type=literal_error, input_value='energy', input_type=str]\n    For further information visit https://errors.pydantic.dev/2.8/v/literal_error\nmodel.jmp.properties.0.EnergyPropertyConfig.loss\n  Unable to extract tag using discriminator 'name' [type=union_tag_not_found, input_value={'type': 'mae'}, input_type=dict]\n    For further information visit https://errors.pydantic.dev/2.8/v/union_tag_not_found\nmodel.jmp.properties.0.ForcesPropertyConfig.loss\n  Unable to extract tag using discriminator 'name' [type=union_tag_not_found, input_value={'type': 'mae'}, input_type=dict]\n    For further information visit https://errors.pydantic.dev/2.8/v/union_tag_not_found\nmodel.jmp.properties.0.ForcesPropertyConfig.type\n  Input should be 'forces' [type=literal_error, input_value='energy', input_type=str]\n    For further information visit https://errors.pydantic.dev/2.8/v/literal_error\nmodel.jmp.properties.0.ForcesPropertyConfig.conservative\n  Field required [type=missing, input_value={'type': 'energy', 'loss': {'type': 'mae'}}, input_type=dict]\n    For further information visit https://errors.pydantic.dev/2.8/v/missing\nmodel.jmp.properties.0.StressesPropertyConfig.loss\n  Unable to extract tag using discriminator 'name' [type=union_tag_not_found, input_value={'type': 'mae'}, input_type=dict]\n    For further information visit https://errors.pydantic.dev/2.8/v/union_tag_not_found\nmodel.jmp.properties.0.StressesPropertyConfig.type\n  Input should be 'stresses' [type=literal_error, input_value='energy', input_type=str]\n    For further information visit https://errors.pydantic.dev/2.8/v/literal_error\nmodel.jmp.properties.0.StressesPropertyConfig.conservative\n  Field required [type=missing, input_value={'type': 'energy', 'loss': {'type': 'mae'}}, input_type=dict]\n    For further information visit https://errors.pydantic.dev/2.8/v/missing\nmodel.jmp.properties.1.GraphPropertyConfig.name\n  Field required [type=missing, input_value={'type': 'forces', 'loss'..., 'conservative': False}, input_type=dict]\n    For further information visit https://errors.pydantic.dev/2.8/v/missing\nmodel.jmp.properties.1.GraphPropertyConfig.dtype\n  Field required [type=missing, input_value={'type': 'forces', 'loss'..., 'conservative': False}, input_type=dict]\n    For further information visit https://errors.pydantic.dev/2.8/v/missing\nmodel.jmp.properties.1.GraphPropertyConfig.loss\n  Unable to extract tag using discriminator 'name' [type=union_tag_not_found, input_value={'type': 'mae'}, input_type=dict]\n    For further information visit https://errors.pydantic.dev/2.8/v/union_tag_not_found\nmodel.jmp.properties.1.GraphPropertyConfig.type\n  Input should be 'graph_property' [type=literal_error, input_value='forces', input_type=str]\n    For further information visit https://errors.pydantic.dev/2.8/v/literal_error\nmodel.jmp.properties.1.EnergyPropertyConfig.loss\n  Unable to extract tag using discriminator 'name' [type=union_tag_not_found, input_value={'type': 'mae'}, input_type=dict]\n    For further information visit https://errors.pydantic.dev/2.8/v/union_tag_not_found\nmodel.jmp.properties.1.EnergyPropertyConfig.type\n  Input should be 'energy' [type=literal_error, input_value='forces', input_type=str]\n    For further information visit https://errors.pydantic.dev/2.8/v/literal_error\nmodel.jmp.properties.1.ForcesPropertyConfig.loss\n  Unable to extract tag using discriminator 'name' [type=union_tag_not_found, input_value={'type': 'mae'}, input_type=dict]\n    For further information visit https://errors.pydantic.dev/2.8/v/union_tag_not_found\nmodel.jmp.properties.1.StressesPropertyConfig.loss\n  Unable to extract tag using discriminator 'name' [type=union_tag_not_found, input_value={'type': 'mae'}, input_type=dict]\n    For further information visit https://errors.pydantic.dev/2.8/v/union_tag_not_found\nmodel.jmp.properties.1.StressesPropertyConfig.type\n  Input should be 'stresses' [type=literal_error, input_value='forces', input_type=str]\n    For further information visit https://errors.pydantic.dev/2.8/v/literal_error\nmodel.jmp.properties.2.GraphPropertyConfig.name\n  Field required [type=missing, input_value={'type': 'stresses', 'los..., 'conservative': False}, input_type=dict]\n    For further information visit https://errors.pydantic.dev/2.8/v/missing\nmodel.jmp.properties.2.GraphPropertyConfig.dtype\n  Field required [type=missing, input_value={'type': 'stresses', 'los..., 'conservative': False}, input_type=dict]\n    For further information visit https://errors.pydantic.dev/2.8/v/missing\nmodel.jmp.properties.2.GraphPropertyConfig.loss\n  Unable to extract tag using discriminator 'name' [type=union_tag_not_found, input_value={'type': 'mae'}, input_type=dict]\n    For further information visit https://errors.pydantic.dev/2.8/v/union_tag_not_found\nmodel.jmp.properties.2.GraphPropertyConfig.type\n  Input should be 'graph_property' [type=literal_error, input_value='stresses', input_type=str]\n    For further information visit https://errors.pydantic.dev/2.8/v/literal_error\nmodel.jmp.properties.2.EnergyPropertyConfig.loss\n  Unable to extract tag using discriminator 'name' [type=union_tag_not_found, input_value={'type': 'mae'}, input_type=dict]\n    For further information visit https://errors.pydantic.dev/2.8/v/union_tag_not_found\nmodel.jmp.properties.2.EnergyPropertyConfig.type\n  Input should be 'energy' [type=literal_error, input_value='stresses', input_type=str]\n    For further information visit https://errors.pydantic.dev/2.8/v/literal_error\nmodel.jmp.properties.2.ForcesPropertyConfig.loss\n  Unable to extract tag using discriminator 'name' [type=union_tag_not_found, input_value={'type': 'mae'}, input_type=dict]\n    For further information visit https://errors.pydantic.dev/2.8/v/union_tag_not_found\nmodel.jmp.properties.2.ForcesPropertyConfig.type\n  Input should be 'forces' [type=literal_error, input_value='stresses', input_type=str]\n    For further information visit https://errors.pydantic.dev/2.8/v/literal_error\nmodel.jmp.properties.2.StressesPropertyConfig.loss\n  Unable to extract tag using discriminator 'name' [type=union_tag_not_found, input_value={'type': 'mae'}, input_type=dict]\n    For further information visit https://errors.pydantic.dev/2.8/v/union_tag_not_found\nmodel.jmp.optimizer\n  Unable to extract tag using discriminator 'name' [type=union_tag_not_found, input_value={'type': 'adamw', 'lr': 0.0001}, input_type=dict]\n    For further information visit https://errors.pydantic.dev/2.8/v/union_tag_not_found",
     "output_type": "error",
     "traceback": [
      "\u001b[0;31m---------------------------------------------------------------------------\u001b[0m",
      "\u001b[0;31mValidationError\u001b[0m                           Traceback (most recent call last)",
      "Cell \u001b[0;32mIn[6], line 41\u001b[0m\n\u001b[1;32m     37\u001b[0m     hparams \u001b[38;5;241m=\u001b[39m hparams\u001b[38;5;241m.\u001b[39mfinalize(strict\u001b[38;5;241m=\u001b[39m\u001b[38;5;28;01mFalse\u001b[39;00m)\n\u001b[1;32m     38\u001b[0m     \u001b[38;5;28;01mreturn\u001b[39;00m hparams\n\u001b[0;32m---> 41\u001b[0m model \u001b[38;5;241m=\u001b[39m MatterTuner(\u001b[43mhparams\u001b[49m\u001b[43m(\u001b[49m\u001b[43m)\u001b[49m)\u001b[38;5;241m.\u001b[39mtune()\n\u001b[1;32m     42\u001b[0m model\n",
      "Cell \u001b[0;32mIn[6], line 37\u001b[0m, in \u001b[0;36mhparams\u001b[0;34m()\u001b[0m\n\u001b[1;32m     34\u001b[0m \u001b[38;5;66;03m# Trainer hparams\u001b[39;00m\n\u001b[1;32m     35\u001b[0m hparams\u001b[38;5;241m.\u001b[39mlightning_trainer_kwargs \u001b[38;5;241m=\u001b[39m {\u001b[38;5;124m\"\u001b[39m\u001b[38;5;124mfast_dev_run\u001b[39m\u001b[38;5;124m\"\u001b[39m: \u001b[38;5;28;01mTrue\u001b[39;00m}\n\u001b[0;32m---> 37\u001b[0m hparams \u001b[38;5;241m=\u001b[39m \u001b[43mhparams\u001b[49m\u001b[38;5;241;43m.\u001b[39;49m\u001b[43mfinalize\u001b[49m\u001b[43m(\u001b[49m\u001b[43mstrict\u001b[49m\u001b[38;5;241;43m=\u001b[39;49m\u001b[38;5;28;43;01mFalse\u001b[39;49;00m\u001b[43m)\u001b[49m\n\u001b[1;32m     38\u001b[0m \u001b[38;5;28;01mreturn\u001b[39;00m hparams\n",
      "File \u001b[0;32m/opt/conda/envs/jmp-peft/lib/python3.11/site-packages/nshconfig/_config.py:130\u001b[0m, in \u001b[0;36mConfig.finalize\u001b[0;34m(self, strict)\u001b[0m\n\u001b[1;32m    127\u001b[0m \u001b[38;5;28mself\u001b[39m\u001b[38;5;241m.\u001b[39m__draft_pre_init__()\n\u001b[1;32m    129\u001b[0m \u001b[38;5;66;03m# Then, we dump the config to a dict and then re-validate it\u001b[39;00m\n\u001b[0;32m--> 130\u001b[0m \u001b[38;5;28;01mreturn\u001b[39;00m \u001b[38;5;28;43mself\u001b[39;49m\u001b[38;5;241;43m.\u001b[39;49m\u001b[43mmodel_deep_validate\u001b[49m\u001b[43m(\u001b[49m\u001b[43mstrict\u001b[49m\u001b[38;5;241;43m=\u001b[39;49m\u001b[43mstrict\u001b[49m\u001b[43m)\u001b[49m\n",
      "File \u001b[0;32m/opt/conda/envs/jmp-peft/lib/python3.11/site-packages/nshconfig/_config.py:108\u001b[0m, in \u001b[0;36mConfig.model_deep_validate\u001b[0;34m(self, strict)\u001b[0m\n\u001b[1;32m    100\u001b[0m \u001b[38;5;250m\u001b[39m\u001b[38;5;124;03m\"\"\"\u001b[39;00m\n\u001b[1;32m    101\u001b[0m \u001b[38;5;124;03mValidate the config and all of its sub-configs.\u001b[39;00m\n\u001b[1;32m    102\u001b[0m \n\u001b[0;32m   (...)\u001b[0m\n\u001b[1;32m    105\u001b[0m \u001b[38;5;124;03m    strict: Whether to validate the config strictly.\u001b[39;00m\n\u001b[1;32m    106\u001b[0m \u001b[38;5;124;03m\"\"\"\u001b[39;00m\n\u001b[1;32m    107\u001b[0m config_dict \u001b[38;5;241m=\u001b[39m \u001b[38;5;28mself\u001b[39m\u001b[38;5;241m.\u001b[39mmodel_dump(round_trip\u001b[38;5;241m=\u001b[39m\u001b[38;5;28;01mTrue\u001b[39;00m)\n\u001b[0;32m--> 108\u001b[0m config \u001b[38;5;241m=\u001b[39m \u001b[38;5;28;43mself\u001b[39;49m\u001b[38;5;241;43m.\u001b[39;49m\u001b[43mmodel_validate\u001b[49m\u001b[43m(\u001b[49m\u001b[43mconfig_dict\u001b[49m\u001b[43m,\u001b[49m\u001b[43m \u001b[49m\u001b[43mstrict\u001b[49m\u001b[38;5;241;43m=\u001b[39;49m\u001b[43mstrict\u001b[49m\u001b[43m)\u001b[49m\n\u001b[1;32m    110\u001b[0m \u001b[38;5;66;03m# Make sure that this is not a draft config\u001b[39;00m\n\u001b[1;32m    111\u001b[0m \u001b[38;5;28;01mif\u001b[39;00m config\u001b[38;5;241m.\u001b[39m_is_draft_config:\n",
      "File \u001b[0;32m/opt/conda/envs/jmp-peft/lib/python3.11/site-packages/pydantic/main.py:568\u001b[0m, in \u001b[0;36mBaseModel.model_validate\u001b[0;34m(cls, obj, strict, from_attributes, context)\u001b[0m\n\u001b[1;32m    566\u001b[0m \u001b[38;5;66;03m# `__tracebackhide__` tells pytest and some other tools to omit this function from tracebacks\u001b[39;00m\n\u001b[1;32m    567\u001b[0m __tracebackhide__ \u001b[38;5;241m=\u001b[39m \u001b[38;5;28;01mTrue\u001b[39;00m\n\u001b[0;32m--> 568\u001b[0m \u001b[38;5;28;01mreturn\u001b[39;00m \u001b[38;5;28;43mcls\u001b[39;49m\u001b[38;5;241;43m.\u001b[39;49m\u001b[43m__pydantic_validator__\u001b[49m\u001b[38;5;241;43m.\u001b[39;49m\u001b[43mvalidate_python\u001b[49m\u001b[43m(\u001b[49m\n\u001b[1;32m    569\u001b[0m \u001b[43m    \u001b[49m\u001b[43mobj\u001b[49m\u001b[43m,\u001b[49m\u001b[43m \u001b[49m\u001b[43mstrict\u001b[49m\u001b[38;5;241;43m=\u001b[39;49m\u001b[43mstrict\u001b[49m\u001b[43m,\u001b[49m\u001b[43m \u001b[49m\u001b[43mfrom_attributes\u001b[49m\u001b[38;5;241;43m=\u001b[39;49m\u001b[43mfrom_attributes\u001b[49m\u001b[43m,\u001b[49m\u001b[43m \u001b[49m\u001b[43mcontext\u001b[49m\u001b[38;5;241;43m=\u001b[39;49m\u001b[43mcontext\u001b[49m\n\u001b[1;32m    570\u001b[0m \u001b[43m\u001b[49m\u001b[43m)\u001b[49m\n",
      "\u001b[0;31mValidationError\u001b[0m: 31 validation errors for MatterTunerConfig\ndata.train\n  Unable to extract tag using discriminator 'type' [type=union_tag_not_found, input_value={'src': '/mnt/datasets/salex/val/'}, input_type=dict]\n    For further information visit https://errors.pydantic.dev/2.8/v/union_tag_not_found\nmodel.jmp.properties.0.GraphPropertyConfig.name\n  Field required [type=missing, input_value={'type': 'energy', 'loss': {'type': 'mae'}}, input_type=dict]\n    For further information visit https://errors.pydantic.dev/2.8/v/missing\nmodel.jmp.properties.0.GraphPropertyConfig.dtype\n  Field required [type=missing, input_value={'type': 'energy', 'loss': {'type': 'mae'}}, input_type=dict]\n    For further information visit https://errors.pydantic.dev/2.8/v/missing\nmodel.jmp.properties.0.GraphPropertyConfig.loss\n  Unable to extract tag using discriminator 'name' [type=union_tag_not_found, input_value={'type': 'mae'}, input_type=dict]\n    For further information visit https://errors.pydantic.dev/2.8/v/union_tag_not_found\nmodel.jmp.properties.0.GraphPropertyConfig.type\n  Input should be 'graph_property' [type=literal_error, input_value='energy', input_type=str]\n    For further information visit https://errors.pydantic.dev/2.8/v/literal_error\nmodel.jmp.properties.0.EnergyPropertyConfig.loss\n  Unable to extract tag using discriminator 'name' [type=union_tag_not_found, input_value={'type': 'mae'}, input_type=dict]\n    For further information visit https://errors.pydantic.dev/2.8/v/union_tag_not_found\nmodel.jmp.properties.0.ForcesPropertyConfig.loss\n  Unable to extract tag using discriminator 'name' [type=union_tag_not_found, input_value={'type': 'mae'}, input_type=dict]\n    For further information visit https://errors.pydantic.dev/2.8/v/union_tag_not_found\nmodel.jmp.properties.0.ForcesPropertyConfig.type\n  Input should be 'forces' [type=literal_error, input_value='energy', input_type=str]\n    For further information visit https://errors.pydantic.dev/2.8/v/literal_error\nmodel.jmp.properties.0.ForcesPropertyConfig.conservative\n  Field required [type=missing, input_value={'type': 'energy', 'loss': {'type': 'mae'}}, input_type=dict]\n    For further information visit https://errors.pydantic.dev/2.8/v/missing\nmodel.jmp.properties.0.StressesPropertyConfig.loss\n  Unable to extract tag using discriminator 'name' [type=union_tag_not_found, input_value={'type': 'mae'}, input_type=dict]\n    For further information visit https://errors.pydantic.dev/2.8/v/union_tag_not_found\nmodel.jmp.properties.0.StressesPropertyConfig.type\n  Input should be 'stresses' [type=literal_error, input_value='energy', input_type=str]\n    For further information visit https://errors.pydantic.dev/2.8/v/literal_error\nmodel.jmp.properties.0.StressesPropertyConfig.conservative\n  Field required [type=missing, input_value={'type': 'energy', 'loss': {'type': 'mae'}}, input_type=dict]\n    For further information visit https://errors.pydantic.dev/2.8/v/missing\nmodel.jmp.properties.1.GraphPropertyConfig.name\n  Field required [type=missing, input_value={'type': 'forces', 'loss'..., 'conservative': False}, input_type=dict]\n    For further information visit https://errors.pydantic.dev/2.8/v/missing\nmodel.jmp.properties.1.GraphPropertyConfig.dtype\n  Field required [type=missing, input_value={'type': 'forces', 'loss'..., 'conservative': False}, input_type=dict]\n    For further information visit https://errors.pydantic.dev/2.8/v/missing\nmodel.jmp.properties.1.GraphPropertyConfig.loss\n  Unable to extract tag using discriminator 'name' [type=union_tag_not_found, input_value={'type': 'mae'}, input_type=dict]\n    For further information visit https://errors.pydantic.dev/2.8/v/union_tag_not_found\nmodel.jmp.properties.1.GraphPropertyConfig.type\n  Input should be 'graph_property' [type=literal_error, input_value='forces', input_type=str]\n    For further information visit https://errors.pydantic.dev/2.8/v/literal_error\nmodel.jmp.properties.1.EnergyPropertyConfig.loss\n  Unable to extract tag using discriminator 'name' [type=union_tag_not_found, input_value={'type': 'mae'}, input_type=dict]\n    For further information visit https://errors.pydantic.dev/2.8/v/union_tag_not_found\nmodel.jmp.properties.1.EnergyPropertyConfig.type\n  Input should be 'energy' [type=literal_error, input_value='forces', input_type=str]\n    For further information visit https://errors.pydantic.dev/2.8/v/literal_error\nmodel.jmp.properties.1.ForcesPropertyConfig.loss\n  Unable to extract tag using discriminator 'name' [type=union_tag_not_found, input_value={'type': 'mae'}, input_type=dict]\n    For further information visit https://errors.pydantic.dev/2.8/v/union_tag_not_found\nmodel.jmp.properties.1.StressesPropertyConfig.loss\n  Unable to extract tag using discriminator 'name' [type=union_tag_not_found, input_value={'type': 'mae'}, input_type=dict]\n    For further information visit https://errors.pydantic.dev/2.8/v/union_tag_not_found\nmodel.jmp.properties.1.StressesPropertyConfig.type\n  Input should be 'stresses' [type=literal_error, input_value='forces', input_type=str]\n    For further information visit https://errors.pydantic.dev/2.8/v/literal_error\nmodel.jmp.properties.2.GraphPropertyConfig.name\n  Field required [type=missing, input_value={'type': 'stresses', 'los..., 'conservative': False}, input_type=dict]\n    For further information visit https://errors.pydantic.dev/2.8/v/missing\nmodel.jmp.properties.2.GraphPropertyConfig.dtype\n  Field required [type=missing, input_value={'type': 'stresses', 'los..., 'conservative': False}, input_type=dict]\n    For further information visit https://errors.pydantic.dev/2.8/v/missing\nmodel.jmp.properties.2.GraphPropertyConfig.loss\n  Unable to extract tag using discriminator 'name' [type=union_tag_not_found, input_value={'type': 'mae'}, input_type=dict]\n    For further information visit https://errors.pydantic.dev/2.8/v/union_tag_not_found\nmodel.jmp.properties.2.GraphPropertyConfig.type\n  Input should be 'graph_property' [type=literal_error, input_value='stresses', input_type=str]\n    For further information visit https://errors.pydantic.dev/2.8/v/literal_error\nmodel.jmp.properties.2.EnergyPropertyConfig.loss\n  Unable to extract tag using discriminator 'name' [type=union_tag_not_found, input_value={'type': 'mae'}, input_type=dict]\n    For further information visit https://errors.pydantic.dev/2.8/v/union_tag_not_found\nmodel.jmp.properties.2.EnergyPropertyConfig.type\n  Input should be 'energy' [type=literal_error, input_value='stresses', input_type=str]\n    For further information visit https://errors.pydantic.dev/2.8/v/literal_error\nmodel.jmp.properties.2.ForcesPropertyConfig.loss\n  Unable to extract tag using discriminator 'name' [type=union_tag_not_found, input_value={'type': 'mae'}, input_type=dict]\n    For further information visit https://errors.pydantic.dev/2.8/v/union_tag_not_found\nmodel.jmp.properties.2.ForcesPropertyConfig.type\n  Input should be 'forces' [type=literal_error, input_value='stresses', input_type=str]\n    For further information visit https://errors.pydantic.dev/2.8/v/literal_error\nmodel.jmp.properties.2.StressesPropertyConfig.loss\n  Unable to extract tag using discriminator 'name' [type=union_tag_not_found, input_value={'type': 'mae'}, input_type=dict]\n    For further information visit https://errors.pydantic.dev/2.8/v/union_tag_not_found\nmodel.jmp.optimizer\n  Unable to extract tag using discriminator 'name' [type=union_tag_not_found, input_value={'type': 'adamw', 'lr': 0.0001}, input_type=dict]\n    For further information visit https://errors.pydantic.dev/2.8/v/union_tag_not_found"
     ]
    }
   ],
   "source": [
    "from __future__ import annotations\n",
    "\n",
    "import os\n",
    "from pathlib import Path\n",
    "\n",
    "import mattertune.configs as MC\n",
    "from mattertune import MatterTuner\n",
    "\n",
    "os.environ[\"CUDA_LAUNCH_BLOCKING\"] = \"1\"\n",
    "\n",
    "\n",
    "def hparams():\n",
    "    hparams = MC.MatterTunerConfig.draft()\n",
    "\n",
    "    # Model hparams\n",
    "    hparams.model = MC.JMPBackboneConfig.draft()\n",
    "    hparams.model.graph_computer = MC.GraphComputerConfig.draft()\n",
    "    hparams.model.graph_computer.pbc = True\n",
    "\n",
    "    hparams.model.ckpt_path = Path(\"/mnt/shared/checkpoints/jmp-l.pt\")\n",
    "    hparams.model.ignore_gpu_batch_transform_error = True\n",
    "    hparams.model.optimizer = MC.AdamWConfig(lr=1.0e-4)\n",
    "\n",
    "    hparams.model.properties = []\n",
    "    energy = MC.EnergyPropertyConfig(loss=MC.MAELossConfig())\n",
    "    hparams.model.properties.append(energy)\n",
    "    forces = MC.ForcesPropertyConfig(loss=MC.MAELossConfig(), conservative=False)\n",
    "    hparams.model.properties.append(forces)\n",
    "    stresses = MC.StressesPropertyConfig(loss=MC.MAELossConfig(), conservative=False)\n",
    "    hparams.model.properties.append(stresses)\n",
    "\n",
    "    # Data hparams\n",
    "    hparams.data = MC.PerSplitDataConfig.draft()\n",
    "    hparams.data.train = MC.OMAT24DatasetConfig.draft()\n",
    "    hparams.data.train.src = Path(\"/mnt/datasets/salex/val/\")\n",
    "    hparams.data.batch_size = 1\n",
    "\n",
    "    # Trainer hparams\n",
    "    hparams.lightning_trainer_kwargs = {\"fast_dev_run\": True}\n",
    "\n",
    "    hparams = hparams.finalize(strict=False)\n",
    "    return hparams\n",
    "\n",
    "\n",
    "model = MatterTuner(hparams()).tune()\n",
    "model"
   ]
  },
  {
   "cell_type": "code",
   "execution_count": 13,
   "metadata": {},
   "outputs": [
    {
     "name": "stdout",
     "output_type": "stream",
     "text": [
      "<mattertune.wrappers.potential.MatterTunePotential object at 0x7830b2819e50>\n",
      "<mattertune.wrappers.ase_calculator.MatterTuneCalculator object at 0x78304876f510>\n"
     ]
    }
   ],
   "source": [
    "potential = model.potential()\n",
    "print(potential)\n",
    "\n",
    "calculator = model.ase_calculator()\n",
    "print(calculator)\n"
   ]
  },
  {
   "cell_type": "code",
   "execution_count": 14,
   "metadata": {},
   "outputs": [
    {
     "name": "stderr",
     "output_type": "stream",
     "text": [
      "Trainer will use only 1 of 2 GPUs because it is running inside an interactive / notebook environment. You may try to set `Trainer(devices=2)` but please note that multi-GPU inside interactive / notebook environments is considered experimental and unstable. Your mileage may vary.\n",
      "GPU available: True (cuda), used: True\n",
      "TPU available: False, using: 0 TPU cores\n",
      "IPU available: False, using: 0 IPUs\n",
      "HPU available: False, using: 0 HPUs\n",
      "LOCAL_RANK: 0 - CUDA_VISIBLE_DEVICES: [0,1]\n"
     ]
    },
    {
     "name": "stdout",
     "output_type": "stream",
     "text": [
      "Atoms(symbols='H2O', pbc=True, cell=[10.0, 10.0, 10.0])\n"
     ]
    },
    {
     "data": {
      "application/vnd.jupyter.widget-view+json": {
       "model_id": "7378cf33127845d39adfcc076a8ca815",
       "version_major": 2,
       "version_minor": 0
      },
      "text/plain": [
       "Predicting: |          | 0/? [00:00<?, ?it/s]"
      ]
     },
     "metadata": {},
     "output_type": "display_data"
    },
    {
     "name": "stdout",
     "output_type": "stream",
     "text": [
      "[{'energy': tensor[1] [5.390], 'forces': tensor[3, 3] n=9 x∈[-1.419, 1.253] μ=-0.010 σ=0.868 [[-0.000, -0.062, 0.278], [0.000, -1.419, 1.016], [0.000, 1.253, -1.155]], 'stresses': tensor[1, 3, 3] n=9 x∈[-1.702e-06, 0.249] μ=0.083 σ=0.090 [[[0.249, 1.669e-06, -1.702e-06], [1.669e-06, 0.100, 0.116], [-1.702e-06, 0.116, 0.164]]]}]\n"
     ]
    }
   ],
   "source": [
    "import ase\n",
    "\n",
    "# Create a test periodic system\n",
    "atoms = ase.Atoms(\n",
    "    \"H2O\", positions=[[0, 0, 0], [0, 0, 1], [0, 1, 0]], cell=[10, 10, 10], pbc=True\n",
    ")\n",
    "print(atoms)\n",
    "\n",
    "print(potential.predict([atoms], model.hparams.properties))"
   ]
  },
  {
   "cell_type": "code",
   "execution_count": 15,
   "metadata": {},
   "outputs": [
    {
     "name": "stderr",
     "output_type": "stream",
     "text": [
      "Trainer will use only 1 of 2 GPUs because it is running inside an interactive / notebook environment. You may try to set `Trainer(devices=2)` but please note that multi-GPU inside interactive / notebook environments is considered experimental and unstable. Your mileage may vary.\n",
      "GPU available: True (cuda), used: True\n",
      "TPU available: False, using: 0 TPU cores\n",
      "IPU available: False, using: 0 IPUs\n",
      "HPU available: False, using: 0 HPUs\n",
      "LOCAL_RANK: 0 - CUDA_VISIBLE_DEVICES: [0,1]\n"
     ]
    },
    {
     "name": "stdout",
     "output_type": "stream",
     "text": [
      "Atoms(symbols='H2O', pbc=True, cell=[10.0, 10.0, 10.0])\n"
     ]
    },
    {
     "data": {
      "application/vnd.jupyter.widget-view+json": {
       "model_id": "8fc6cdfed003438f82022b4e005f5ea0",
       "version_major": 2,
       "version_minor": 0
      },
      "text/plain": [
       "Predicting: |          | 0/? [00:00<?, ?it/s]"
      ]
     },
     "metadata": {},
     "output_type": "display_data"
    },
    {
     "name": "stdout",
     "output_type": "stream",
     "text": [
      "5.39019775390625\n"
     ]
    }
   ],
   "source": [
    "import ase\n",
    "\n",
    "# Create a test periodic system\n",
    "atoms = ase.Atoms(\n",
    "    \"H2O\", positions=[[0, 0, 0], [0, 0, 1], [0, 1, 0]], cell=[10, 10, 10], pbc=True\n",
    ")\n",
    "print(atoms)\n",
    "\n",
    "# Set the calculator\n",
    "atoms.calc = calculator\n",
    "\n",
    "# Calculate the energy\n",
    "energy = atoms.get_potential_energy()\n",
    "print(energy)"
   ]
  },
  {
   "cell_type": "code",
   "execution_count": 18,
   "metadata": {},
   "outputs": [
    {
     "name": "stderr",
     "output_type": "stream",
     "text": [
      "Trainer will use only 1 of 2 GPUs because it is running inside an interactive / notebook environment. You may try to set `Trainer(devices=2)` but please note that multi-GPU inside interactive / notebook environments is considered experimental and unstable. Your mileage may vary.\n",
      "GPU available: True (cuda), used: True\n",
      "TPU available: False, using: 0 TPU cores\n",
      "IPU available: False, using: 0 IPUs\n",
      "HPU available: False, using: 0 HPUs\n",
      "LOCAL_RANK: 0 - CUDA_VISIBLE_DEVICES: [0,1]\n"
     ]
    },
    {
     "data": {
      "application/vnd.jupyter.widget-view+json": {
       "model_id": "5e35ef3ecb6f4b55bd037ef392f0a823",
       "version_major": 2,
       "version_minor": 0
      },
      "text/plain": [
       "Predicting: |          | 0/? [00:00<?, ?it/s]"
      ]
     },
     "metadata": {},
     "output_type": "display_data"
    },
    {
     "name": "stdout",
     "output_type": "stream",
     "text": [
      "ase.Atoms 1 energy: tensor[1] [5.390]\n",
      "ase.Atoms 1 forces: tensor[3, 3] n=9 x∈[-1.419, 1.253] μ=-0.010 σ=0.868 [[-0.000, -0.062, 0.278], [0.000, -1.419, 1.016], [0.000, 1.253, -1.155]]\n",
      "ase.Atoms 2 energy: tensor[1] [5.390]\n",
      "ase.Atoms 2 forces: tensor[3, 3] n=9 x∈[-1.419, 1.253] μ=-0.010 σ=0.868 [[-0.000, -0.062, 0.278], [0.000, -1.419, 1.016], [0.000, 1.253, -1.155]]\n"
     ]
    }
   ],
   "source": [
    "potential = model.potential()\n",
    "atoms_1 = ase.Atoms(\n",
    "    \"H2O\", positions=[[0, 0, 0], [0, 0, 1], [0, 1, 0]], cell=[10, 10, 10], pbc=True\n",
    ")\n",
    "atoms_2 = ase.Atoms(\n",
    "    \"H2O\", positions=[[0, 0, 0], [0, 0, 1], [0, 1, 0]], cell=[10, 10, 10], pbc=True\n",
    ")\n",
    "atoms = [atoms_1, atoms_2]\n",
    "predictions = potential.predict(atoms, [\"energy\", \"forces\"])\n",
    "print(\"ase.Atoms 1 energy:\", predictions[0][\"energy\"])\n",
    "print(\"ase.Atoms 1 forces:\", predictions[0][\"forces\"])\n",
    "print(\"ase.Atoms 2 energy:\", predictions[1][\"energy\"])\n",
    "print(\"ase.Atoms 2 forces:\", predictions[1][\"forces\"])"
   ]
  }
 ],
 "metadata": {
  "kernelspec": {
   "display_name": "jmp-peft",
   "language": "python",
   "name": "python3"
  },
  "language_info": {
   "codemirror_mode": {
    "name": "ipython",
    "version": 3
   },
   "file_extension": ".py",
   "mimetype": "text/x-python",
   "name": "python",
   "nbconvert_exporter": "python",
   "pygments_lexer": "ipython3",
   "version": "3.11.6"
  }
 },
 "nbformat": 4,
 "nbformat_minor": 2
}
