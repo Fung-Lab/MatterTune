{
 "cells": [
  {
   "cell_type": "code",
   "execution_count": 2,
   "metadata": {},
   "outputs": [],
   "source": [
    "import nshutils as nu\n",
    "\n",
    "nu.pretty()"
   ]
  },
  {
   "cell_type": "code",
   "execution_count": 9,
   "metadata": {},
   "outputs": [
    {
     "ename": "NameError",
     "evalue": "name 'Data' is not defined",
     "output_type": "error",
     "traceback": [
      "\u001b[0;31m---------------------------------------------------------------------------\u001b[0m",
      "\u001b[0;31mNameError\u001b[0m                                 Traceback (most recent call last)",
      "Cell \u001b[0;32mIn[9], line 6\u001b[0m\n\u001b[1;32m      3\u001b[0m \u001b[38;5;28;01mimport\u001b[39;00m \u001b[38;5;21;01mos\u001b[39;00m\n\u001b[1;32m      4\u001b[0m \u001b[38;5;28;01mfrom\u001b[39;00m \u001b[38;5;21;01mpathlib\u001b[39;00m \u001b[38;5;28;01mimport\u001b[39;00m Path\n\u001b[0;32m----> 6\u001b[0m \u001b[38;5;28;01mimport\u001b[39;00m \u001b[38;5;21;01mmattertune\u001b[39;00m\u001b[38;5;21;01m.\u001b[39;00m\u001b[38;5;21;01mconfigs\u001b[39;00m \u001b[38;5;28;01mas\u001b[39;00m \u001b[38;5;21;01mMC\u001b[39;00m\n\u001b[1;32m      7\u001b[0m \u001b[38;5;28;01mfrom\u001b[39;00m \u001b[38;5;21;01mmattertune\u001b[39;00m \u001b[38;5;28;01mimport\u001b[39;00m MatterTuner\n\u001b[1;32m      9\u001b[0m os\u001b[38;5;241m.\u001b[39menviron[\u001b[38;5;124m\"\u001b[39m\u001b[38;5;124mCUDA_LAUNCH_BLOCKING\u001b[39m\u001b[38;5;124m\"\u001b[39m] \u001b[38;5;241m=\u001b[39m \u001b[38;5;124m\"\u001b[39m\u001b[38;5;124m1\u001b[39m\u001b[38;5;124m\"\u001b[39m\n",
      "File \u001b[0;32m~/workspace/MatterTune/src/mattertune/__init__.py:3\u001b[0m\n\u001b[1;32m      1\u001b[0m \u001b[38;5;28;01mfrom\u001b[39;00m \u001b[38;5;21;01m__future__\u001b[39;00m \u001b[38;5;28;01mimport\u001b[39;00m annotations\n\u001b[0;32m----> 3\u001b[0m \u001b[38;5;28;01mfrom\u001b[39;00m \u001b[38;5;21;01m.\u001b[39;00m\u001b[38;5;21;01mfinetune\u001b[39;00m\u001b[38;5;21;01m.\u001b[39;00m\u001b[38;5;21;01mmain\u001b[39;00m \u001b[38;5;28;01mimport\u001b[39;00m MatterTuner \u001b[38;5;28;01mas\u001b[39;00m MatterTuner\n\u001b[1;32m      4\u001b[0m \u001b[38;5;28;01mfrom\u001b[39;00m \u001b[38;5;21;01m.\u001b[39;00m\u001b[38;5;21;01mfinetune\u001b[39;00m\u001b[38;5;21;01m.\u001b[39;00m\u001b[38;5;21;01mmain\u001b[39;00m \u001b[38;5;28;01mimport\u001b[39;00m MatterTunerConfig \u001b[38;5;28;01mas\u001b[39;00m MatterTunerConfig\n",
      "File \u001b[0;32m~/workspace/MatterTune/src/mattertune/finetune/main.py:8\u001b[0m\n\u001b[1;32m      5\u001b[0m \u001b[38;5;28;01mimport\u001b[39;00m \u001b[38;5;21;01mnshconfig\u001b[39;00m \u001b[38;5;28;01mas\u001b[39;00m \u001b[38;5;21;01mC\u001b[39;00m\n\u001b[1;32m      6\u001b[0m \u001b[38;5;28;01mfrom\u001b[39;00m \u001b[38;5;21;01mlightning\u001b[39;00m\u001b[38;5;21;01m.\u001b[39;00m\u001b[38;5;21;01mpytorch\u001b[39;00m \u001b[38;5;28;01mimport\u001b[39;00m Trainer\n\u001b[0;32m----> 8\u001b[0m \u001b[38;5;28;01mfrom\u001b[39;00m \u001b[38;5;21;01m.\u001b[39;00m\u001b[38;5;21;01m.\u001b[39;00m\u001b[38;5;21;01mbackbones\u001b[39;00m \u001b[38;5;28;01mimport\u001b[39;00m BackboneConfig\n\u001b[1;32m      9\u001b[0m \u001b[38;5;28;01mfrom\u001b[39;00m \u001b[38;5;21;01m.\u001b[39;00m\u001b[38;5;21;01m.\u001b[39;00m\u001b[38;5;21;01mdata\u001b[39;00m \u001b[38;5;28;01mimport\u001b[39;00m DatasetConfig\n\u001b[1;32m     11\u001b[0m \u001b[38;5;28;01mif\u001b[39;00m TYPE_CHECKING:\n",
      "File \u001b[0;32m~/workspace/MatterTune/src/mattertune/backbones/__init__.py:7\u001b[0m\n\u001b[1;32m      3\u001b[0m \u001b[38;5;28;01mfrom\u001b[39;00m \u001b[38;5;21;01mtyping\u001b[39;00m \u001b[38;5;28;01mimport\u001b[39;00m Annotated, TypeAlias\n\u001b[1;32m      5\u001b[0m \u001b[38;5;28;01mimport\u001b[39;00m \u001b[38;5;21;01mnshconfig\u001b[39;00m \u001b[38;5;28;01mas\u001b[39;00m \u001b[38;5;21;01mC\u001b[39;00m\n\u001b[0;32m----> 7\u001b[0m \u001b[38;5;28;01mfrom\u001b[39;00m \u001b[38;5;21;01m.\u001b[39;00m\u001b[38;5;21;01mjmp\u001b[39;00m \u001b[38;5;28;01mimport\u001b[39;00m JMPBackboneConfig \u001b[38;5;28;01mas\u001b[39;00m JMPBackboneConfig\n\u001b[1;32m      8\u001b[0m \u001b[38;5;28;01mfrom\u001b[39;00m \u001b[38;5;21;01m.\u001b[39;00m\u001b[38;5;21;01mjmp\u001b[39;00m \u001b[38;5;28;01mimport\u001b[39;00m JMPBackboneModule \u001b[38;5;28;01mas\u001b[39;00m JMPBackboneModule\n\u001b[1;32m     10\u001b[0m BackboneConfig: TypeAlias \u001b[38;5;241m=\u001b[39m Annotated[\n\u001b[1;32m     11\u001b[0m     JMPBackboneConfig,\n\u001b[1;32m     12\u001b[0m     C\u001b[38;5;241m.\u001b[39mField(\n\u001b[0;32m   (...)\u001b[0m\n\u001b[1;32m     15\u001b[0m     ),\n\u001b[1;32m     16\u001b[0m ]\n",
      "File \u001b[0;32m~/workspace/MatterTune/src/mattertune/backbones/jmp.py:67\u001b[0m\n\u001b[1;32m     62\u001b[0m     \u001b[38;5;129m@override\u001b[39m\n\u001b[1;32m     63\u001b[0m     \u001b[38;5;28;01mdef\u001b[39;00m \u001b[38;5;21mcreate_backbone\u001b[39m(\u001b[38;5;28mself\u001b[39m):\n\u001b[1;32m     64\u001b[0m         \u001b[38;5;28;01mreturn\u001b[39;00m JMPBackboneModule(\u001b[38;5;28mself\u001b[39m)\n\u001b[0;32m---> 67\u001b[0m \u001b[38;5;28;01mclass\u001b[39;00m \u001b[38;5;21;01mJMPBackboneModule\u001b[39;00m(FinetuneModuleBase[\u001b[43mData\u001b[49m, Batch, JMPBackboneConfig]):\n\u001b[1;32m     68\u001b[0m     \u001b[38;5;28;01mdef\u001b[39;00m \u001b[38;5;21m_create_output_head\u001b[39m(\u001b[38;5;28mself\u001b[39m, prop: props\u001b[38;5;241m.\u001b[39mPropertyConfig):\n\u001b[1;32m     69\u001b[0m         activation_cls \u001b[38;5;241m=\u001b[39m _get_activation_cls(\u001b[38;5;28mself\u001b[39m\u001b[38;5;241m.\u001b[39mbackbone\u001b[38;5;241m.\u001b[39mhparams\u001b[38;5;241m.\u001b[39mactivation)\n",
      "\u001b[0;31mNameError\u001b[0m: name 'Data' is not defined"
     ]
    }
   ],
   "source": [
    "from __future__ import annotations\n",
    "\n",
    "import os\n",
    "from pathlib import Path\n",
    "\n",
    "import mattertune.configs as MC\n",
    "from mattertune import MatterTuner\n",
    "\n",
    "os.environ[\"CUDA_LAUNCH_BLOCKING\"] = \"1\"\n",
    "\n",
    "def hparams():\n",
    "    hparams = MC.MatterTunerConfig.draft()\n",
    "\n",
    "    # Model hparams\n",
    "    hparams.model = MC.JMPBackboneConfig.draft()\n",
    "    hparams.model.graph_computer = MC.M3GNetGraphComputerConfig.draft()\n",
    "    hparams.model.optimizer = MC.AdamWConfig(lr=1.0e-4)\n",
    "    \n",
    "    ## Properties\n",
    "    hparams.model.properties = []\n",
    "    energy = MC.EnergyPropertyConfig(loss=MC.MAELossConfig())\n",
    "    hparams.model.properties.append(energy)\n",
    "    forces = MC.ForcesPropertyConfig(loss=MC.MAELossConfig(), conservative=False)\n",
    "    hparams.model.properties.append(forces)\n",
    "    \n",
    "    ## Data hparams\n",
    "    hparams.data = MC.PerSplitDataConfig.draft()\n",
    "    hparams.data.train = MC.XYZDatasetConfig.draft()\n",
    "    hparams.data.train.src = Path(\"data/xyz/train\")\n",
    "    hparams.data.batch_size = 64\n",
    "    \n",
    "    # Trainer hparams\n",
    "    hparams.lightning_trainer_kwargs = {\"fast_dev_run\": True}\n",
    "    \n",
    "    hparams = hparams.finalize(strict=False)\n",
    "    return hparams\n",
    "    \n",
    "model = MatterTuner(hparams()).tune()\n",
    "model"
   ]
  },
  {
   "cell_type": "code",
   "execution_count": null,
   "metadata": {},
   "outputs": [],
   "source": []
  }
 ],
 "metadata": {
  "kernelspec": {
   "display_name": "matgl-tune",
   "language": "python",
   "name": "python3"
  },
  "language_info": {
   "codemirror_mode": {
    "name": "ipython",
    "version": 3
   },
   "file_extension": ".py",
   "mimetype": "text/x-python",
   "name": "python",
   "nbconvert_exporter": "python",
   "pygments_lexer": "ipython3",
   "version": "3.10.15"
  }
 },
 "nbformat": 4,
 "nbformat_minor": 2
}
