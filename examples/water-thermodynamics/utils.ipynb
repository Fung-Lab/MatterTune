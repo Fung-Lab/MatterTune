{
 "cells": [
  {
   "cell_type": "code",
   "execution_count": 3,
   "metadata": {},
   "outputs": [
    {
     "name": "stdout",
     "output_type": "stream",
     "text": [
      "100\n",
      "900\n",
      "30\n"
     ]
    }
   ],
   "source": [
    "from ase.io import read, write\n",
    "import numpy as np\n",
    "\n",
    "atoms_list = read(\"./data/water_1000_eVAng.xyz\", \":\")\n",
    "\n",
    "\n",
    "all_energies = [atoms.get_potential_energy() for atoms in atoms_list]\n",
    "sorted_indices = np.argsort(all_energies)\n",
    "\n",
    "val_indices = np.linspace(0, len(sorted_indices)-1, 100).astype(int)\n",
    "val_indices = sorted_indices[val_indices]\n",
    "val_atoms_list = [atoms_list[i] for i in val_indices]\n",
    "print(len(val_atoms_list))\n",
    "write(\"./data/val_water_1000_eVAng.xyz\", val_atoms_list)\n",
    "\n",
    "train_indices = np.delete(np.arange(len(atoms_list)), val_indices)\n",
    "train_atoms_list = [atoms_list[i] for i in train_indices]\n",
    "print(len(train_atoms_list))\n",
    "write(\"./data/train_water_1000_eVAng.xyz\", train_atoms_list)\n",
    "\n",
    "train_30_indices = np.random.choice(train_indices, 30, replace=False)\n",
    "train_30_atoms_list = [atoms_list[i] for i in train_30_indices]\n",
    "print(len(train_30_atoms_list))\n",
    "write(\"./data/train_30_water_1000_eVAng.xyz\", train_30_atoms_list)\n"
   ]
  },
  {
   "cell_type": "code",
   "execution_count": null,
   "metadata": {},
   "outputs": [],
   "source": []
  }
 ],
 "metadata": {
  "kernelspec": {
   "display_name": "mattersim-tune",
   "language": "python",
   "name": "python3"
  },
  "language_info": {
   "codemirror_mode": {
    "name": "ipython",
    "version": 3
   },
   "file_extension": ".py",
   "mimetype": "text/x-python",
   "name": "python",
   "nbconvert_exporter": "python",
   "pygments_lexer": "ipython3",
   "version": "3.10.16"
  }
 },
 "nbformat": 4,
 "nbformat_minor": 2
}
